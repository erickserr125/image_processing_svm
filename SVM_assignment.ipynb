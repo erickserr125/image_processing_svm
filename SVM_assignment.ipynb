{
 "cells": [
  {
   "cell_type": "code",
   "execution_count": 1,
   "id": "14edc845",
   "metadata": {},
   "outputs": [],
   "source": [
    "\"\"\"\n",
    "Libraries Used\n",
    "\"\"\"\n",
    "from sklearn import svm, model_selection\n",
    "import pandas as pd\n",
    "import numpy as np"
   ]
  },
  {
   "cell_type": "code",
   "execution_count": 8,
   "id": "e40ae5d6",
   "metadata": {},
   "outputs": [],
   "source": [
    "\"\"\"\n",
    "Download data and then initiate k-fold cross validation (k=5)\n",
    "\"\"\"\n",
    "data = pd.read_csv(\"MNIST_HW4.csv\")\n",
    "label = data[\"label\"]\n",
    "data = pd.DataFrame.to_numpy(data)[:,1:]\n",
    "#print(label)\n",
    "kf = model_selection.KFold(n_splits = 5)"
   ]
  },
  {
   "cell_type": "code",
   "execution_count": 26,
   "id": "44b3b0e2",
   "metadata": {},
   "outputs": [
    {
     "name": "stdout",
     "output_type": "stream",
     "text": [
      "5-fold Cross Validation:\tFold  1 :\tFold  2 :\tFold  3 :\tFold  4 :\tFold  5 :\t\n",
      "Linear Model Mean Accuracy:\t0.875 \t\t0.89 \t\t0.865 \t\t0.86 \t\t0.8743718592964824 \t\t\n",
      "Polynomial Model Mean Accuracy:\t0.86 \t\t0.845 \t\t0.84 \t\t0.825 \t\t0.8492462311557789 \t\t\n",
      "rbf Model Mean Accuracy: \t0.895 \t\t0.92 \t\t0.865 \t\t0.89 \t\t0.8894472361809045 \t\t"
     ]
    }
   ],
   "source": [
    "\"\"\"\n",
    "1) Initiate models w/ unique kernels\n",
    "2) Split the data using kf.split()\n",
    "3) Train the data using each SVM model\n",
    "4) Report the accuracy per model\n",
    "NOTE: Code was arranged so that the output could be neater; code itself is not optimal.\n",
    "\"\"\"\n",
    "#1)\n",
    "linear_model = svm.SVC(kernel = 'linear')\n",
    "rbf_model = svm.SVC(kernel = 'rbf')\n",
    "poly_model = svm.SVC(kernel = 'poly')\n",
    "\n",
    "\n",
    "#2), 3) and 4)\n",
    "i = 1\n",
    "print(\"5-fold Cross Validation:\\t\", end='')\n",
    "for train_index, test_index in kf.split(data):\n",
    "    print(\"Fold \",i,\":\\t\", end = '')\n",
    "    i+= 1\n",
    "\n",
    "print(\"\\nLinear Model Mean Accuracy:\\t\", end = '')\n",
    "for train_index, test_index in kf.split(data):\n",
    "    x_train, x_test = data[train_index,:], data[test_index,:]\n",
    "    y_train,y_test = label[train_index], label[test_index]\n",
    "    linear_model.fit(x_train,y_train)\n",
    "    \n",
    "    print(linear_model.score(x_test,y_test),\"\\t\\t\", end = '')\n",
    "    i+= 1\n",
    "    \n",
    "print(\"\\nPolynomial Model Mean Accuracy:\\t\", end='')\n",
    "for train_index, test_index in kf.split(data):\n",
    "    x_train, x_test = data[train_index,:], data[test_index,:]\n",
    "    y_train,y_test = label[train_index], label[test_index]\n",
    "    poly_model.fit(x_train,y_train)\n",
    "    \n",
    "    print(poly_model.score(x_test,y_test),\"\\t\\t\", end='')\n",
    "    i+= 1\n",
    "    \n",
    "print(\"\\nrbf Model Mean Accuracy: \\t\", end='')\n",
    "for train_index, test_index in kf.split(data):\n",
    "    x_train, x_test = data[train_index,:], data[test_index,:]\n",
    "    y_train,y_test = label[train_index], label[test_index]\n",
    "    rbf_model.fit(x_train,y_train)\n",
    "    \n",
    "    print(rbf_model.score(x_test,y_test),\"\\t\\t\", end='')\n",
    "    i+= 1\n",
    "  "
   ]
  },
  {
   "cell_type": "code",
   "execution_count": null,
   "id": "e12ef0eb",
   "metadata": {},
   "outputs": [],
   "source": []
  }
 ],
 "metadata": {
  "kernelspec": {
   "display_name": "Python 3",
   "language": "python",
   "name": "python3"
  },
  "language_info": {
   "codemirror_mode": {
    "name": "ipython",
    "version": 3
   },
   "file_extension": ".py",
   "mimetype": "text/x-python",
   "name": "python",
   "nbconvert_exporter": "python",
   "pygments_lexer": "ipython3",
   "version": "3.8.10"
  }
 },
 "nbformat": 4,
 "nbformat_minor": 5
}
